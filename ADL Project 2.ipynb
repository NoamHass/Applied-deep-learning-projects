{
 "cells": [
  {
   "cell_type": "code",
   "execution_count": null,
   "metadata": {},
   "outputs": [],
   "source": [
    "import numpy as np\n",
    "from sklearn.datasets import load_diabetes\n",
    "from sklearn.model_selection import train_test_split\n",
    "from numpy.random import randint\n",
    "import matplotlib.pyplot as plt\n",
    "diabetes = load_diabetes()"
   ]
  },
  {
   "cell_type": "code",
   "execution_count": null,
   "metadata": {},
   "outputs": [],
   "source": [
    "#Error calculation function\n",
    "def err_calc(x,A,b):\n",
    "    return .5 * np.linalg.norm(A @ x - b) ** 2 "
   ]
  },
  {
   "cell_type": "markdown",
   "metadata": {},
   "source": [
    "Question #1"
   ]
  },
  {
   "cell_type": "code",
   "execution_count": null,
   "metadata": {},
   "outputs": [],
   "source": [
    "A = diabetes.data\n",
    "b = diabetes.target\n",
    "epsilon = 0.01\n",
    "delta = 3\n",
    "x0 = np.zeros(A.shape[1])"
   ]
  },
  {
   "cell_type": "code",
   "execution_count": null,
   "metadata": {},
   "outputs": [],
   "source": [
    "#GD algorythm\n",
    "ERR = [] \n",
    "xk = x0\n",
    "jj = 0\n",
    "while (2 * np.linalg.norm(((A.T @ A) @ xk) - (A.T @ b)) ** 2) > delta :\n",
    "    grad = (((A.T @ A) @ xk) - (A.T @ b))\n",
    "    xk = xk - 2 * epsilon * grad\n",
    "    err = err_calc(xk, A , b)\n",
    "    #print(err)\n",
    "    ERR.append(err)\n",
    "    jj = jj + 1\n",
    "\n",
    "print(f'GD converged, iter{jj}, error {err:.3e}')"
   ]
  },
  {
   "cell_type": "code",
   "execution_count": null,
   "metadata": {},
   "outputs": [],
   "source": [
    "# plot the error grpah\n",
    "ERR = np.stack(ERR)\n",
    "plt.plot(ERR)\n",
    "plt.xlabel('Iterations')\n",
    "plt.ylabel('Error')\n",
    "plt.title('Error graph')\n",
    "plt.yscale('log')\n",
    "plt.show()\n"
   ]
  },
  {
   "cell_type": "code",
   "execution_count": null,
   "metadata": {},
   "outputs": [],
   "source": [
    "#finding the optimal solution to determine GD correctness\n",
    "x_star = np.linalg.pinv(A) @ b\n",
    "print(err_calc(x_star, A, b))"
   ]
  },
  {
   "cell_type": "markdown",
   "metadata": {},
   "source": [
    "Question #2"
   ]
  },
  {
   "cell_type": "code",
   "execution_count": null,
   "metadata": {},
   "outputs": [],
   "source": [
    "import numpy as np\n",
    "from sklearn.datasets import load_diabetes\n",
    "from sklearn.model_selection import train_test_split\n",
    "from numpy.random import randint\n",
    "import matplotlib.pyplot as plt\n",
    "diabetes = load_diabetes()"
   ]
  },
  {
   "cell_type": "code",
   "execution_count": null,
   "metadata": {},
   "outputs": [],
   "source": [
    "#Spliting the data into train and test set with 20% used for testing\n",
    "A = diabetes.data\n",
    "b = diabetes.target\n",
    "A_tr, A_te, b_tr, b_te = train_test_split(A, b, test_size=0.2, random_state=0)\n"
   ]
  },
  {
   "cell_type": "code",
   "execution_count": null,
   "metadata": {},
   "outputs": [],
   "source": [
    "#Setting the starting point and hyperparameters\n",
    "epsilon_tr = 0.01\n",
    "delta_tr = 3\n",
    "x0_tr = np.zeros(A_tr.shape[1])"
   ]
  },
  {
   "cell_type": "code",
   "execution_count": null,
   "metadata": {},
   "outputs": [],
   "source": [
    "#Solving least squares on Train and evaluating on test using GD\n",
    "ERR_tr = []\n",
    "ERR_te = []\n",
    "xk_tr = x0_tr\n",
    "kk = 0\n",
    "while (2 * np.linalg.norm(((A_tr.T @ A_tr) @ xk_tr) - (A_tr.T @ b_tr)) ** 2) > delta_tr :\n",
    "    grad_tr = (((A_tr.T @ A_tr) @ xk_tr) - (A_tr.T @ b_tr))\n",
    "    xk_tr = xk_tr - 2 * epsilon_tr * grad_tr\n",
    "    err_tr = err_calc(xk_tr, A_tr , b_tr)\n",
    "    err_te = 4 * err_calc(xk_tr, A_te, b_te)\n",
    "    #print(f'training erro: {err_tr}  test error: {err_te}')\n",
    "    ERR_tr.append(err_tr)\n",
    "    ERR_te.append(err_te)\n",
    "    kk = kk + 1\n",
    "\n"
   ]
  },
  {
   "cell_type": "code",
   "execution_count": null,
   "metadata": {},
   "outputs": [],
   "source": [
    "# plot the error grpah for train and test sets\n",
    "ERR_tr = np.stack(ERR_tr)\n",
    "ERR_te = np.stack(ERR_te)\n",
    "plt.plot(ERR_tr, label = 'Training error')\n",
    "plt.plot(ERR_te, label = 'Test error')\n",
    "plt.xlabel('Iterations')\n",
    "plt.ylabel('Error')\n",
    "plt.title('Error graph of train set and test set')\n",
    "plt.legend()\n",
    "plt.yscale('log')\n",
    "plt.show()"
   ]
  },
  {
   "cell_type": "code",
   "execution_count": null,
   "metadata": {},
   "outputs": [],
   "source": [
    "#finding relative error to determin over/underfitting\n",
    "relative_error  = abs(err_tr - err_te) / abs(err_tr)\n",
    "print(relative_error)"
   ]
  },
  {
   "cell_type": "markdown",
   "metadata": {},
   "source": [
    "Question #3"
   ]
  },
  {
   "cell_type": "code",
   "execution_count": null,
   "metadata": {},
   "outputs": [],
   "source": [
    "import numpy as np\n",
    "from sklearn.datasets import load_diabetes\n",
    "from sklearn.model_selection import train_test_split\n",
    "from numpy.random import randint\n",
    "import matplotlib.pyplot as plt\n",
    "diabetes = load_diabetes()"
   ]
  },
  {
   "cell_type": "code",
   "execution_count": null,
   "metadata": {},
   "outputs": [],
   "source": [
    "A = diabetes.data\n",
    "b = diabetes.target\n",
    "epsilon_tr = 0.01\n",
    "delta_tr = 5\n",
    "\n",
    "tr_err_list = []\n",
    "te_err_list = []\n",
    "\n",
    "\n",
    "#Repeating question 2, 10 times\n",
    "for ii in range(10):\n",
    "    \n",
    "    #Generating the 80/20 split differently for each ii \n",
    "    A_tr, A_te, b_tr, b_te = train_test_split(A, b, test_size=0.2,)\n",
    "\n",
    "    \n",
    "    x0_tr = np.zeros(A_tr.shape[1])\n",
    "    ERR_tr = []\n",
    "    ERR_te = []\n",
    "    xk_tr = x0_tr\n",
    "    kk = 0\n",
    "\n",
    "    #Solving least squares problem for each split\n",
    "    for pp in range(10000) :\n",
    "        grad_tr = (((A_tr.T @ A_tr) @ xk_tr) - (A_tr.T @ b_tr))\n",
    "        xk_tr = xk_tr - 2 * epsilon_tr * grad_tr\n",
    "        err_tr = err_calc(xk_tr, A_tr , b_tr)\n",
    "        err_te = 4 * err_calc(xk_tr, A_te, b_te)\n",
    "        #print(f'training erro: {err_tr}  test error: {err_te}')\n",
    "        ERR_tr.append(err_tr)\n",
    "        ERR_te.append(err_te)\n",
    "        kk = kk + 1\n",
    "\n",
    "    tr_err_list.append(ERR_tr)\n",
    "    te_err_list.append(ERR_te)\n",
    "\n",
    "\n",
    "\n",
    "\n",
    "\n",
    "    #Remoev # to view all 10 graphs for each split\n",
    "    # plt.plot(ERR_tr, label = 'Training error')\n",
    "    # plt.plot(ERR_te, label = 'Test error')\n",
    "    # plt.xlabel('Iterations')\n",
    "    # plt.ylabel('Error')\n",
    "    # plt.title('Error graph of train set and test set')\n",
    "    # plt.legend()\n",
    "    # plt.show()\n",
    "    \n",
    "    \n",
    "    \n",
    "    "
   ]
  },
  {
   "cell_type": "code",
   "execution_count": null,
   "metadata": {},
   "outputs": [],
   "source": [
    "avg_tr_err = np.mean(tr_err_list, axis = 0)\n",
    "avg_te_err = np.mean(te_err_list, axis = 0)\n",
    "\n",
    "min_tr_err = np.min(tr_err_list, axis = 0)\n",
    "min_te_err = np.min(te_err_list, axis = 0)\n",
    "\n",
    "#To show eithe the average or min error graph remove the # from the desired plot or both to view the joint graph\n",
    "\n",
    "# plt.plot(avg_tr_err, label = 'Average train error')\n",
    "# plt.plot(avg_te_err, label = 'Average test error')\n",
    "# plt.title('Average Error graph')\n",
    "\n",
    "# plt.plot(min_tr_err, label = 'Min train error')\n",
    "# plt.plot(min_te_err, label = 'Min test error')\n",
    "# plt.title('Minimal Error graph')\n",
    "\n",
    "plt.xlabel('Iterations')\n",
    "plt.ylabel('Error')\n",
    "plt.legend()\n",
    "plt.yscale('log')\n",
    "plt.show()\n",
    "\n"
   ]
  }
 ],
 "metadata": {
  "kernelspec": {
   "display_name": "adl",
   "language": "python",
   "name": "python3"
  },
  "language_info": {
   "codemirror_mode": {
    "name": "ipython",
    "version": 3
   },
   "file_extension": ".py",
   "mimetype": "text/x-python",
   "name": "python",
   "nbconvert_exporter": "python",
   "pygments_lexer": "ipython3",
   "version": "3.8.19"
  }
 },
 "nbformat": 4,
 "nbformat_minor": 2
}
